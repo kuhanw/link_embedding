{
 "cells": [
  {
   "cell_type": "code",
   "execution_count": 1,
   "metadata": {},
   "outputs": [],
   "source": [
    "import pickle\n",
    "import math\n",
    "import random\n",
    "import tldextract\n",
    "import os\n",
    "\n",
    "import pandas as pd\n",
    "import networkx as nx\n",
    "import numpy as np\n",
    "import matplotlib.pyplot as plt\n",
    "import seaborn as sns\n",
    "import tensorflow as tf\n",
    "import datetime as dt\n",
    "\n",
    "from joblib import Parallel, delayed\n",
    "\n",
    "'''\n",
    "randomWalk(graph, initial_node, step, max_step, path)\n",
    "\n",
    "Function to take a random walk from a given node\n",
    "\n",
    "graph: networkx graph, graph from which to random through\n",
    "initial node: string, initial node to begin the walk\n",
    "step: int, current step of walk\n",
    "max_step: int, maximum number of steps to take in walk\n",
    "path:, list, current path taken in the walk\n",
    "'''\n",
    "def randomWalk(graph, initial_node, step, max_step, path):\n",
    " \n",
    "    if step>= max_step: \n",
    "        return path\n",
    "    \n",
    "    adjacent_nodes = [i for i in graph[initial_node]]\n",
    "    #Weights here are normalized with respect to global max as opposed to local max!\n",
    "    #Therefore have to reweight\n",
    "\n",
    "    if len(adjacent_nodes) == 0:\n",
    "        path.append(None)\n",
    "        return path\n",
    "    \n",
    "    node_paths = graph[initial_node]\n",
    "    adjacent_nodes_weights = [node_paths[i]['weight'] for i in node_paths]\n",
    "    sum_weights = sum(adjacent_nodes_weights)\n",
    "    adjacent_nodes_weights = [i/sum_weights for i in adjacent_nodes_weights]\n",
    "    #print (adjacent_nodes_weights)\n",
    "\n",
    "    #print (adjacent_nodes, adjacent_nodes_weights)\n",
    "       \n",
    "    next_node = np.random.choice(adjacent_nodes, p=adjacent_nodes_weights)\n",
    "    \n",
    "    path.append(next_node)\n",
    "    \n",
    "    return randomWalk(graph, next_node, step+1, max_step, path)\n",
    "\n",
    "'''\n",
    "generateBatch(batch_size, num_context_per_label, context_window, target, step)\n",
    "\n",
    "batch_size: int, batch size for training\n",
    "num_context_per_label: int, how many context examples to use per label (the label is the target) \n",
    "can't be greater than the context window size\n",
    "context_window: int, size of the context window \n",
    "target: array, the list of targets for each context window\n",
    "step: int, counter for how many times to step through the same context and target data\n",
    "\n",
    "Generate the batch data for training. For each \"context window\", randomly sample a\n",
    "set of context elements and configure them as training data by constructing column data of,\n",
    "\n",
    "[target_0, context_0]\n",
    "[target_0, context_1]\n",
    "[target_0, context_3]\n",
    "...\n",
    "[target_n, context_3]\n",
    "[target_n, context_2]\n",
    "[target_n, context_1]\n",
    "\n",
    "'''\n",
    "def generateBatch(batch_size, num_context_per_label, context_window, target, step):\n",
    "\n",
    "    batch = []\n",
    "    passes_through_batch = batch_size//num_context_per_label\n",
    "    for window_idx in range(passes_through_batch):\n",
    "        \n",
    "        current_window = list(context_window[window_idx + passes_through_batch*step])\n",
    "        current_target = target[window_idx + passes_through_batch*step]\n",
    "        context_samples = -1\n",
    "        while context_samples == -1:\n",
    "            \n",
    "            context_samples = random.sample(current_window, num_context_per_label)\n",
    "        \n",
    "        data_samples =  [[context_sample, [current_target]] for context_sample in context_samples]\n",
    "\n",
    "        for data_sample in data_samples:\n",
    "            batch.append(data_sample)\n",
    "            \n",
    "    return batch\n",
    "\n",
    "black_list = ['@', ':///', 'onlinecasinoreports']"
   ]
  },
  {
   "cell_type": "code",
   "execution_count": 2,
   "metadata": {},
   "outputs": [],
   "source": [
    "\n",
    "\n",
    "def walkGraph(web_graph, node, step, max_step, current_path):\n",
    "    \n",
    "    path = randomWalk(web_graph, node, 0, max_step, current_path)\n",
    "\n",
    "    path = [domain_map[i] for i in path]\n",
    "    \n",
    "    while len(path)-1!=max_step:\n",
    "        path.append(None)\n",
    "        \n",
    "    return path"
   ]
  },
  {
   "cell_type": "code",
   "execution_count": 3,
   "metadata": {},
   "outputs": [],
   "source": [
    "df_sp500 = pd.read_csv('sp500_links.csv')"
   ]
  },
  {
   "cell_type": "code",
   "execution_count": 6,
   "metadata": {},
   "outputs": [],
   "source": [
    "#Figure out what blanks are!\n",
    "#Create a graph out of the connections\n",
    "edge_entries = {}\n",
    "domain_graph = True\n",
    "nodes_only = []\n",
    "web_graph = nx.DiGraph()\n",
    "#web_graph = nx.Graph()"
   ]
  },
  {
   "cell_type": "code",
   "execution_count": 7,
   "metadata": {},
   "outputs": [],
   "source": [
    "domain_graph = True"
   ]
  },
  {
   "cell_type": "code",
   "execution_count": 8,
   "metadata": {},
   "outputs": [],
   "source": [
    "'''\n",
    "Fill a graph\n",
    "\n",
    "[DOCUMENTATION NEEDED]\n",
    "\n",
    "'''\n",
    "\n",
    "def fillGraph(web_graph, graph_file, edge_entries, nodes_only, domain_graph=True):\n",
    "    \n",
    "    for node in graph_file.keys():\n",
    "        if domain_graph:\n",
    "            domain_node = tldextract.extract(node)\n",
    "            domain_node = domain_node.domain\n",
    "        else:\n",
    "            domain_node = node\n",
    "\n",
    "        domain_node = domain_node.lower()\n",
    "\n",
    "        for idx in range(0, len(graph_file[node]), 3):\n",
    "            key = graph_file[node][idx]\n",
    "\n",
    "            if domain_graph:\n",
    "                domain_key = tldextract.extract(key)\n",
    "                domain_key = domain_key.domain\n",
    "            else:\n",
    "                domain_key = key\n",
    "\n",
    "            if domain_node == domain_key: \n",
    "                continue        \n",
    "\n",
    "            if domain_node is None or domain_key is None: \n",
    "                continue\n",
    "\n",
    "            if True in [i in domain_node for i in black_list] or True in [i in domain_key for i in black_list]:\n",
    "                continue\n",
    "\n",
    "            domain_key = domain_key.lower()\n",
    "\n",
    "            edge_connection = domain_node + '--' + domain_key\n",
    "            if edge_connection not in edge_entries.keys():\n",
    "                edge_entries[edge_connection]=1\n",
    "            else:\n",
    "                edge_entries[edge_connection]+=1\n",
    "\n",
    "            weight = edge_entries[edge_connection]\n",
    "\n",
    "            web_graph.add_weighted_edges_from([(domain_node, domain_key, weight)])\n",
    "\n",
    "            nodes_only.append(domain_node)\n",
    "    \n",
    "    return web_graph"
   ]
  },
  {
   "cell_type": "code",
   "execution_count": 9,
   "metadata": {},
   "outputs": [],
   "source": [
    "for idx, file in enumerate(os.listdir('./crawler_results/')):\n",
    "    \n",
    "    if 'final' not in file: \n",
    "        continue\n",
    "\n",
    "    graph_file = pickle.load(open('./crawler_results/' + file, 'rb'))\n",
    "\n",
    "    if len(web_graph.nodes())==0:\n",
    "        directed_graph = fillGraph(web_graph, graph_file, edge_entries, nodes_only, domain_graph)\n",
    "    else:\n",
    "        directed_graph = fillGraph(directed_graph, graph_file, edge_entries, nodes_only, domain_graph)\n",
    "\n",
    "graph_file = []"
   ]
  },
  {
   "cell_type": "code",
   "execution_count": 10,
   "metadata": {},
   "outputs": [],
   "source": [
    "#edges = weights_list[0]\n",
    "#weights = weights_list[1]/np.max(weights[1])#"
   ]
  },
  {
   "cell_type": "code",
   "execution_count": 11,
   "metadata": {},
   "outputs": [],
   "source": [
    "list_of_nodes = [i for i in web_graph.nodes()]\n",
    "\n",
    "domain_inv_map = {idx:i for idx, i in enumerate(list_of_nodes)}\n",
    "domain_map = {i:idx for idx, i in enumerate(list_of_nodes)}\n",
    "domain_map[None] = -1"
   ]
  },
  {
   "cell_type": "code",
   "execution_count": 13,
   "metadata": {},
   "outputs": [],
   "source": [
    "no_next_neighbors = []\n",
    "no_neighbors = []\n",
    "for node in list_of_nodes:\n",
    "    \n",
    "    neighbors = [i for i in web_graph.neighbors(node)]\n",
    "    for neighbor in neighbors:\n",
    "        next_neighbors = [i for i in web_graph.neighbors(neighbor)]    \n",
    "    \n",
    "    try:\n",
    "        next_neighbor_counts = [len(i) for i in next_neighbors]\n",
    "    except:\n",
    "        next_neighbor_counts = [0]\n",
    "        \n",
    "    if sum(next_neighbor_counts)==0:\n",
    "        no_next_neighbors.append(node)\n",
    "        \n",
    "    if len(neighbors)==0:\n",
    "        no_neighbors.append(node)    "
   ]
  },
  {
   "cell_type": "code",
   "execution_count": 14,
   "metadata": {},
   "outputs": [],
   "source": [
    "nodes_only = list(set(nodes_only))"
   ]
  },
  {
   "cell_type": "code",
   "execution_count": 15,
   "metadata": {},
   "outputs": [
    {
     "name": "stdout",
     "output_type": "stream",
     "text": [
      "307568 nodes, 307568 key_domain dict, 70346 key_nodes only\n"
     ]
    }
   ],
   "source": [
    "#Sanity check\n",
    "#print('%d nodes, %d dict terms, %d key_domain dict' % (len(list_of_nodes), len(vocab_dict), len(key_domain_dict)))\n",
    "print('%d nodes, %d key_domain dict, %d key_nodes only' % (len(list_of_nodes), len(domain_inv_map), len(nodes_only)))"
   ]
  },
  {
   "cell_type": "code",
   "execution_count": 26,
   "metadata": {},
   "outputs": [],
   "source": [
    "#plt.figure(figsize=(10, 10))\n",
    "#nx.draw(web_graph, node_size=10, pos=nx.circular_layout(web_graph), width=0.1)#, with_labels=True)\n",
    "#plt.savefig('nytimes_root_graph_directed_domain_only_circular_layout.png')\n",
    "#plt.show()"
   ]
  },
  {
   "cell_type": "code",
   "execution_count": 27,
   "metadata": {},
   "outputs": [],
   "source": [
    "#plt.figure(figsize=(10, 10))\n",
    "#nx.draw(web_graph, node_size=10, pos=nx.spectral_layout(web_graph), width=0.1)#, with_labels=True)\n",
    "#plt.savefig('nytimes_root_graph_directed_domain_only_spectral_layout.png')\n",
    "#plt.show()"
   ]
  },
  {
   "cell_type": "code",
   "execution_count": 28,
   "metadata": {},
   "outputs": [],
   "source": [
    "#plt.figure(figsize=(10, 10))\n",
    "#nx.draw(web_graph, node_size=10, pos=nx.kamada_kawai_layout(web_graph), width=0.1)#, with_labels=True)\n",
    "#plt.savefig('nytimes_root_graph_directed_domain_only_kamada_kawai_layout.png')\n",
    "#plt.show()"
   ]
  },
  {
   "cell_type": "code",
   "execution_count": null,
   "metadata": {},
   "outputs": [],
   "source": [
    "pickle.dump(web_graph, open('graph_directed_weighted_v7.pkl', 'wb'))\n",
    "pickle.dump(domain_inv_map, open('domain_inv_map_directed_v7.pkl', 'wb'))"
   ]
  },
  {
   "cell_type": "code",
   "execution_count": null,
   "metadata": {},
   "outputs": [],
   "source": [
    "plt.figure(figsize=(10, 10))\n",
    "nx.draw(web_graph, node_size=2, pos=nx.spring_layout(web_graph), width=0.01)#, with_labels=True)\n",
    "plt.savefig('crawled_graph_directed_domain_only_force_layout_company_test_graph_size_200.png')\n",
    "plt.show()"
   ]
  },
  {
   "cell_type": "code",
   "execution_count": 16,
   "metadata": {},
   "outputs": [],
   "source": [
    "max_step = 2# Window size and max_step must be connected\n",
    "\n",
    "num_skips = 1 #The number of context examples per label to create x-y data out of \n",
    "#i.e. the number of rows of \"data\" per window, label combo\n",
    "window_size = max_step//2 #where max step must be even\n",
    "embedding_size = 32  #Dimension of the embedding vector.\n",
    "vocabulary_size = 27623#len(web_graph.nodes())\n",
    "#vocabulary_size = len(nodes_only)\n",
    "\n",
    "num_sampled = 64 #Number of negative examples to sample. \n",
    "#As this number goes to the total number of samples it reproduces softmax, \n",
    "#this not quite correct as we still doing binary classification, except now we give every negative example to test against,\n",
    "#as opposed to true multi-class classification\n",
    "batch_size = 64 #must be a multiple of num_skips\n",
    "num_steps = len(nodes_only)//batch_size\n",
    "n_epochs = 70000 #This controls the number of walks from each node"
   ]
  },
  {
   "cell_type": "code",
   "execution_count": 17,
   "metadata": {},
   "outputs": [
    {
     "name": "stdout",
     "output_type": "stream",
     "text": [
      "27623 nodes, 1099 steps per epoch\n"
     ]
    }
   ],
   "source": [
    "print ('%d nodes, %d steps per epoch' % (vocabulary_size, num_steps))"
   ]
  },
  {
   "cell_type": "code",
   "execution_count": 18,
   "metadata": {},
   "outputs": [],
   "source": [
    "tf.reset_default_graph()\n",
    "graph = tf.Graph()\n",
    "\n",
    "with graph.as_default():\n",
    "\n",
    "    # Input data.\n",
    "    train_inputs = tf.placeholder(tf.int32, shape=[batch_size])\n",
    "    train_labels = tf.placeholder(tf.int32, shape=[batch_size, 1])\n",
    "\n",
    "    # Look up embeddings for inputs.\n",
    "    embeddings = tf.Variable(\n",
    "        tf.random_uniform([vocabulary_size, embedding_size], -1.0, 1.0))\n",
    "    embed = tf.nn.embedding_lookup(embeddings, train_inputs)\n",
    "\n",
    "    # Construct the variables for the NCE loss\n",
    "    nce_weights = tf.Variable(\n",
    "        tf.truncated_normal([vocabulary_size, embedding_size],\n",
    "                            stddev=1.0 / math.sqrt(embedding_size)))\n",
    "    nce_biases = tf.Variable(tf.zeros([vocabulary_size]))\n",
    "\n",
    "    # Compute the average NCE loss for the batch.\n",
    "    loss = tf.reduce_mean(\n",
    "      tf.nn.nce_loss(weights=nce_weights,\n",
    "                     biases=nce_biases,\n",
    "                     labels=train_labels,\n",
    "                     inputs=embed,\n",
    "                     num_sampled=num_sampled,\n",
    "                     num_classes=vocabulary_size))\n",
    "\n",
    "    # Construct the SGD optimizer using a learning rate of 1.0.\n",
    "    optimizer = tf.train.GradientDescentOptimizer(0.1).minimize(loss)\n",
    "\n",
    "    # Compute the cosine similarity between minibatch examples and all embeddings.\n",
    "    norm = tf.sqrt(tf.reduce_sum(tf.square(embeddings), 1, keep_dims=True))\n",
    "    normalized_embeddings = embeddings / norm"
   ]
  },
  {
   "cell_type": "code",
   "execution_count": null,
   "metadata": {},
   "outputs": [],
   "source": [
    "random_walks = Parallel(n_jobs=8, verbose=8)(\n",
    "    delayed(walkGraph)(web_graph, node, 0, max_step, [node]) for node in nodes_only[:10])"
   ]
  },
  {
   "cell_type": "code",
   "execution_count": null,
   "metadata": {
    "scrolled": true
   },
   "outputs": [
    {
     "name": "stdout",
     "output_type": "stream",
     "text": [
      "Initialized\n"
     ]
    }
   ],
   "source": [
    "avg_loss_record = []\n",
    "list_batch_labels = []\n",
    "list_batch_inputs = []\n",
    "\n",
    "with tf.Session(graph=graph) as session:\n",
    "\n",
    "    session.run(tf.global_variables_initializer())\n",
    "    print('Initialized')\n",
    "    saver = tf.train.Saver()\n",
    "    #saver.restore(session, 'chkpt/saved_directed_domain_only_weighted_sp500')\n",
    "\n",
    "    average_loss = 0\n",
    "\n",
    "    for epoch in range(n_epochs):\n",
    "        #Shuffle the list of nodes at the start of each epoch\n",
    "        random.shuffle(list_of_nodes)\n",
    "        random_walks = []\n",
    "        #if epoch!=0: break\n",
    "        for node in nodes_only:\n",
    "            #Step through each node and conduct a random walk about it of length max_step\n",
    "            path = randomWalk(web_graph, node, 0, max_step, [node])\n",
    "            \n",
    "            path = [domain_map[i] for i in path]\n",
    "            #break\n",
    "            while len(path)-1!=max_step:\n",
    "                path.append(None)\n",
    "                \n",
    "            random_walks.append(path)\n",
    "        \n",
    "        data_windows = np.array(random_walks)\n",
    "                \n",
    "        target = data_windows[:,window_size]\n",
    "\n",
    "        left_window = data_windows[:,:window_size]\n",
    "\n",
    "        right_window = data_windows[:,window_size+1:]\n",
    "\n",
    "        context_window = np.concatenate([left_window, right_window], axis=1)\n",
    "            \n",
    "        for step in range(num_steps):\n",
    "\n",
    "            batch_data = generateBatch(batch_size, num_skips, context_window, target, step)\n",
    "            batch_inputs = [row[0] for row in batch_data]\n",
    "            batch_labels = [row[1] for row in batch_data]\n",
    "           \n",
    "            feed_dict = {train_inputs: batch_inputs, train_labels: batch_labels}\n",
    "            list_batch_labels.append([batch_labels])\n",
    "            list_batch_inputs.append([batch_inputs])\n",
    "            \n",
    "            _, loss_val = session.run([optimizer, loss], feed_dict=feed_dict)\n",
    "            \n",
    "            average_loss += loss_val\n",
    "         \n",
    "        if epoch%1000==0: \n",
    "            \n",
    "            avg_loss_record.append(float(average_loss)/num_steps)\n",
    "            print('epoch:%d, Average loss:%.7g' % (epoch, float(average_loss)/num_steps))\n",
    "        \n",
    "        if (epoch % 10000 == 0): \n",
    "\n",
    "            saver.save(session, 'chkpt/saved_directed_domain_only_weighted_sp500_v9')\n",
    "\n",
    "            print ('Session saved')\n",
    "            \n",
    "        average_loss = 0\n",
    "\n",
    "    final_embeddings = normalized_embeddings.eval()\n",
    "    print ('embeddings created')"
   ]
  },
  {
   "cell_type": "code",
   "execution_count": null,
   "metadata": {},
   "outputs": [],
   "source": [
    "print ('embedding_shape', final_embeddings.shape)"
   ]
  },
  {
   "cell_type": "code",
   "execution_count": 38,
   "metadata": {},
   "outputs": [],
   "source": [
    "pickle.dump(final_embeddings, open('embeddings_test_domain_graph_directed_v7.pkl', 'wb'))"
   ]
  },
  {
   "cell_type": "code",
   "execution_count": 36,
   "metadata": {},
   "outputs": [
    {
     "data": {
      "image/png": "[encoded data removed]",
      "text/plain": [
       "<matplotlib.figure.Figure at 0x24262d4abe0>"
      ]
     },
     "metadata": {},
     "output_type": "display_data"
    }
   ],
   "source": [
    "list_loss = np.array(avg_loss_record)\n",
    "plt.figure(figsize=(18, 6))\n",
    "plt.plot([i for i in range(len(list_loss))], list_loss)\n",
    "plt.xlabel('Epochs')\n",
    "plt.ylabel('Average Loss')\n",
    "plt.show()"
   ]
  },
  {
   "cell_type": "code",
   "execution_count": 39,
   "metadata": {},
   "outputs": [],
   "source": [
    "vector = tf.placeholder(dtype=tf.float32)\n",
    "\n",
    "#Create cosine similarity matrix\n",
    "\n",
    "mult_vector = tf.matmul(vector, vector, transpose_b=True)\n",
    "sim_matrix = tf.acos(mult_vector)"
   ]
  },
  {
   "cell_type": "code",
   "execution_count": null,
   "metadata": {},
   "outputs": [],
   "source": [
    "with tf.Session() as sess:\n",
    "    matrices = sess.run([sim_matrix, mult_vector] , feed_dict={vector:final_embeddings})"
   ]
  },
  {
   "cell_type": "code",
   "execution_count": null,
   "metadata": {},
   "outputs": [],
   "source": [
    "sim_matrix = matrices[0]\n",
    "\n",
    "np.fill_diagonal(sim_matrix, 0)"
   ]
  },
  {
   "cell_type": "code",
   "execution_count": null,
   "metadata": {},
   "outputs": [],
   "source": [
    "pickle.dump(sim_matrix, open('cosine_matrix_test_domain_graph_directed_v7.pkl', 'wb'))\n"
   ]
  },
  {
   "cell_type": "code",
   "execution_count": null,
   "metadata": {},
   "outputs": [],
   "source": []
  }
 ],
 "metadata": {
  "kernelspec": {
   "display_name": "Python 3",
   "language": "python",
   "name": "python3"
  },
  "language_info": {
   "codemirror_mode": {
    "name": "ipython",
    "version": 3
   },
   "file_extension": ".py",
   "mimetype": "text/x-python",
   "name": "python",
   "nbconvert_exporter": "python",
   "pygments_lexer": "ipython3",
   "version": "3.5.4"
  }
 },
 "nbformat": 4,
 "nbformat_minor": 2
}
